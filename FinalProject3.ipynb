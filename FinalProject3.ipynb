{
 "cells": [
  {
   "cell_type": "code",
   "execution_count": 1,
   "metadata": {},
   "outputs": [],
   "source": [
    "import networkx as nx\n",
    "import matplotlib.pyplot as plt\n",
    "%matplotlib inline\n",
    "import xlrd\n",
    "import pandas as pd\n",
    "import numpy as np "
   ]
  },
  {
   "cell_type": "code",
   "execution_count": 2,
   "metadata": {},
   "outputs": [],
   "source": [
    "SMB = []\n",
    "HML = []\n",
    "RMW = []\n",
    "CMA = []\n",
    "Mkt_RF = []\n",
    "\n",
    "AllStocksFactors = []\n",
    "StockName = []"
   ]
  },
  {
   "cell_type": "code",
   "execution_count": 3,
   "metadata": {},
   "outputs": [],
   "source": [
    "ExcelFileName= 'cs89_results_export.xlsx'\n",
    "workbook = xlrd.open_workbook(ExcelFileName)\n",
    "worksheet = workbook.sheet_by_name(\"Sheet1\") # We need to read the data  \n",
    "\n",
    "for i in range (1, worksheet.nrows):\n",
    "    StockName.append(worksheet.cell_value(i,0))\n",
    "    StockFactor = []\n",
    "    if worksheet.cell_value(i,1) <= .05:\n",
    "        StockFactor.append(worksheet.cell_value(i,1))\n",
    "    else:\n",
    "        StockFactor.append(0)\n",
    "    if worksheet.cell_value(i,2) <= .05:\n",
    "        StockFactor.append(worksheet.cell_value(i,2))\n",
    "    else:\n",
    "        StockFactor.append(0)  \n",
    "    if worksheet.cell_value(i,3) <= .05:\n",
    "        StockFactor.append(worksheet.cell_value(i,3))\n",
    "    else:\n",
    "        StockFactor.append(0)\n",
    "    if worksheet.cell_value(i,4) <= .05:\n",
    "        StockFactor.append(worksheet.cell_value(i,4))\n",
    "    else:\n",
    "        StockFactor.append(0)\n",
    "    if worksheet.cell_value(i,5) <= .05:\n",
    "        StockFactor.append(worksheet.cell_value(i,5))\n",
    "    else:\n",
    "        StockFactor.append(0)\n",
    "    \n",
    "    AllStocksFactors.append(StockFactor)\n",
    "    "
   ]
  },
  {
   "cell_type": "code",
   "execution_count": 4,
   "metadata": {},
   "outputs": [],
   "source": [
    "# print (AllStockFactors)"
   ]
  },
  {
   "cell_type": "code",
   "execution_count": 5,
   "metadata": {},
   "outputs": [],
   "source": [
    "# print (StockName)"
   ]
  },
  {
   "cell_type": "code",
   "execution_count": 15,
   "metadata": {},
   "outputs": [
    {
     "data": {
      "image/png": "[encoded data removed]",
      "text/plain": [
       "<Figure size 432x288 with 1 Axes>"
      ]
     },
     "metadata": {},
     "output_type": "display_data"
    }
   ],
   "source": [
    "#Creating Graph for all of the edges to be placed on \n",
    "\n",
    "G=nx.MultiDiGraph() #we need a MultiDiGraph so it can hold multiple edges \n",
    "\n",
    "for stock in StockName:\n",
    "    G.add_node(stock)\n",
    "pos = nx.random_layout(G)\n",
    "\n",
    "for g in G:\n",
    "    nx.draw_networkx_nodes(G, pos, node_size=5, node_color='k', alpha=0.5)\n",
    "\n",
    "plt.show()"
   ]
  },
  {
   "cell_type": "code",
   "execution_count": null,
   "metadata": {},
   "outputs": [],
   "source": [
    "#Adding Edges Between Stocks which are both statistically significant for ALL factors. \n",
    "\n",
    "for stock in StockName:\n",
    "    index_stock= StockName.index(stock)\n",
    "\n",
    "    for stock2 in StockName:\n",
    "        index_stock2= StockName.index(stock2)\n",
    "        if stock != stock2:\n",
    "            \n",
    "            #SMB \n",
    "            if AllStocksFactors[index_stock][0] == AllStocksFactors[index_stock2][0]:\n",
    "                G.add_edge(stock, stock2)\n",
    "                nx.draw_networkx_edges(G, pos, edge_list= [stock, stock2], width=6, alpha = 0.5, edge_color= 'b')\n",
    "            \n",
    "            #HML\n",
    "            if AllStocksFactors[index_stock][1] == AllStocksFactors[index_stock2][1]:\n",
    "                G.add_edge(stock, stock2)\n",
    "                nx.draw_networkx_edges(G, pos, edge_list= [stock, stock2], width=6, alpha = 0.5, edge_color= 'g')\n",
    "             \n",
    "            #RMW\n",
    "            if AllStocksFactors[index_stock][2] == AllStocksFactors[index_stock2][2]:\n",
    "                G.add_edge(stock, stock2)\n",
    "                nx.draw_networkx_edges(G, pos, edge_list= [stock, stock2], width=6, alpha = 0.5, edge_color= 'r')\n",
    "            \n",
    "            #CMA\n",
    "            if AllStocksFactors[index_stock][3] == AllStocksFactors[index_stock2][3]:\n",
    "                G.add_edge(stock, stock2)\n",
    "                nx.draw_networkx_edges(G, pos, edge_list= [stock, stock2], width=6, alpha = 0.5, edge_color= 'm')\n",
    "            \n",
    "            #Mkt_RF\n",
    "            if AllStocksFactors[index_stock][4] == AllStocksFactors[index_stock2][4]:\n",
    "                G.add_edge(stock, stock2)\n",
    "                nx.draw_networkx_edges(G, pos, edge_list= [stock, stock2], width=6, alpha = 0.5, edge_color= 'c')\n",
    "plt.show()"
   ]
  },
  {
   "cell_type": "code",
   "execution_count": null,
   "metadata": {
    "scrolled": false
   },
   "outputs": [
    {
     "data": {
      "image/png": "[encoded data removed]",
      "text/plain": [
       "<Figure size 432x288 with 1 Axes>"
      ]
     },
     "metadata": {},
     "output_type": "display_data"
    }
   ],
   "source": [
    "#New Graph for SMB significance\n",
    "\n",
    "G=nx.Graph()\n",
    "\n",
    "for stock in StockName:\n",
    "    G.add_node(stock) # add nodes \n",
    "pos = nx.random_layout(G)\n",
    "\n",
    "nx.draw_networkx_nodes(G, pos, node_size=5, node_color='k', alpha=0.5) #draw nodes \n",
    "\n",
    "plt.show() # graph with no edges \n",
    "\n",
    "\n",
    "#Adding Edges Between Stocks which are both statistically significant for SMB \n",
    "for stock in StockName:\n",
    "    index_stock= StockName.index(stock)\n",
    "\n",
    "    for stock2 in StockName:\n",
    "        index_stock2= StockName.index(stock2)\n",
    "        if stock != stock2:   \n",
    "            if AllStocksFactors[index_stock][0] == AllStocksFactors[index_stock2][0]:\n",
    "                G.add_edge(stock, stock2)\n",
    "                nx.draw_networkx_edges(G, pos, edge_list= [stock, stock2], width=6, alpha = 0.5, edge_color= 'b')\n",
    "\n",
    "plt.show() # graph with edges "
   ]
  },
  {
   "cell_type": "code",
   "execution_count": null,
   "metadata": {},
   "outputs": [],
   "source": [
    "#New Graph for HML significance\n",
    "G=nx.Graph()\n",
    "\n",
    "\n",
    "for stock in StockName:\n",
    "    G.add_node(stock) # add nodes \n",
    "pos = nx.random_layout(G)\n",
    "\n",
    "nx.draw_networkx_nodes(G, pos, node_size=5, node_color='k', alpha=0.5) #draw nodes \n",
    "\n",
    "plt.show() # graph with no edges \n",
    "\n",
    "\n",
    "#Adding Edges Between Stocks which are both statistically significant for HML\n",
    "for stock in StockName:\n",
    "    index_stock= StockName.index(stock)\n",
    "\n",
    "    for stock2 in StockName:\n",
    "        index_stock2= StockName.index(stock2)\n",
    "        if stock != stock2:\n",
    "            \n",
    "            #HML\n",
    "            if AllStocksFactors[index_stock][1] == AllStocksFactors[index_stock2][1]:\n",
    "                G.add_edge(stock, stock2)\n",
    "                nx.draw_networkx_edges(G, pos, edge_list= [stock, stock2], width=6, alpha = 0.5, edge_color= 'g')"
   ]
  },
  {
   "cell_type": "code",
   "execution_count": null,
   "metadata": {},
   "outputs": [],
   "source": [
    "#New Graph for RMW significance\n",
    "G=nx.Graph() \n",
    "\n",
    "\n",
    "for stock in StockName:\n",
    "    G.add_node(stock) # add nodes \n",
    "pos = nx.random_layout(G)\n",
    "\n",
    "nx.draw_networkx_nodes(G, pos, node_size=5, node_color='k', alpha=0.5) #draw nodes \n",
    "\n",
    "plt.show() # graph with no edges \n",
    "\n",
    "#Adding Edges Between Stocks which are both statistically significant for RMW\n",
    "\n",
    "for stock in StockName:\n",
    "    index_stock= StockName.index(stock)\n",
    "\n",
    "    for stock2 in StockName:\n",
    "        index_stock2= StockName.index(stock2)\n",
    "        if stock != stock2:\n",
    "              #RMW\n",
    "            if AllStocksFactors[index_stock][2] == AllStocksFactors[index_stock2][2]:\n",
    "                G.add_edge(stock, stock2)\n",
    "                nx.draw_networkx_edges(G, pos, edge_list= [stock, stock2], width=6, alpha = 0.5, edge_color= 'r')\n",
    "            "
   ]
  },
  {
   "cell_type": "code",
   "execution_count": null,
   "metadata": {},
   "outputs": [],
   "source": [
    "#New Graph for CMA significance\n",
    "G=nx.Graph()\n",
    "\n",
    "\n",
    "for stock in StockName:\n",
    "    G.add_node(stock) # add nodes \n",
    "pos = nx.random_layout(G)\n",
    "\n",
    "nx.draw_networkx_nodes(G, pos, node_size=5, node_color='k', alpha=0.5) #draw nodes \n",
    "\n",
    "plt.show() # graph with no edges \n",
    "\n",
    "\n",
    "#Adding Edges Between Stocks which are both statistically significant for CMA\n",
    "\n",
    "for stock in StockName:\n",
    "    index_stock= StockName.index(stock)\n",
    "\n",
    "    for stock2 in StockName:\n",
    "        index_stock2= StockName.index(stock2)\n",
    "        if stock != stock2:\n",
    "             #CMA\n",
    "            if AllStocksFactors[index_stock][3] == AllStocksFactors[index_stock2][3]:\n",
    "                G.add_edge(stock, stock2)\n",
    "                nx.draw_networkx_edges(G, pos, edge_list= [stock, stock2], width=6, alpha = 0.5, edge_color= 'm')\n",
    "            "
   ]
  },
  {
   "cell_type": "code",
   "execution_count": null,
   "metadata": {},
   "outputs": [],
   "source": [
    "#New Graph for Mkt_RF significance\n",
    "G=nx.Graph()\n",
    "\n",
    "\n",
    "for stock in StockName:\n",
    "    G.add_node(stock) # add nodes \n",
    "pos = nx.random_layout(G)\n",
    "\n",
    "nx.draw_networkx_nodes(G, pos, node_size=5, node_color='k', alpha=0.5) #draw nodes \n",
    "\n",
    "plt.show() # graph with no edges \n",
    "\n",
    "\n",
    "#Adding Edges Between Stocks which are both statistically significant for Mkt_RF\n",
    "\n",
    "for stock in StockName:\n",
    "    index_stock= StockName.index(stock)\n",
    "\n",
    "    for stock2 in StockName:\n",
    "        index_stock2= StockName.index(stock2)\n",
    "        if stock != stock2:\n",
    "               #Mkt_RF\n",
    "            if AllStocksFactors[index_stock][4] == AllStocksFactors[index_stock2][4]:\n",
    "                G.add_edge(stock, stock2)\n",
    "                nx.draw_networkx_edges(G, pos, edge_list= [stock, stock2], width=6, alpha = 0.5, edge_color= 'c')"
   ]
  }
 ],
 "metadata": {
  "kernelspec": {
   "display_name": "Python 3",
   "language": "python",
   "name": "python3"
  },
  "language_info": {
   "codemirror_mode": {
    "name": "ipython",
    "version": 3
   },
   "file_extension": ".py",
   "mimetype": "text/x-python",
   "name": "python",
   "nbconvert_exporter": "python",
   "pygments_lexer": "ipython3",
   "version": "3.8.1"
  }
 },
 "nbformat": 4,
 "nbformat_minor": 4
}
